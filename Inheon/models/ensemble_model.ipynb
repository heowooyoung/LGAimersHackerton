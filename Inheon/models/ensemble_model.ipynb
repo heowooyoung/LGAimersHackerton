{
 "cells": [
  {
   "cell_type": "code",
   "execution_count": 1,
   "metadata": {},
   "outputs": [],
   "source": [
    "import os\n",
    "import numpy as np\n",
    "import pandas as pd\n",
    "import joblib\n",
    "\n",
    "from sklearn.ensemble import RandomForestClassifier, AdaBoostClassifier\n",
    "from xgboost import XGBClassifier\n",
    "from lightgbm import LGBMClassifier\n",
    "# from catboost import CatBoostClassifier\n",
    "\n",
    "from sklearn.tree import DecisionTreeClassifier\n",
    "from sklearn.metrics import (\n",
    "    accuracy_score,\n",
    "    classification_report,\n",
    "    roc_auc_score,\n",
    "    confusion_matrix\n",
    ")\n",
    "from sklearn.model_selection import (\n",
    "    train_test_split,\n",
    "    cross_val_score,\n",
    "    cross_val_predict,\n",
    "    KFold,\n",
    "    GridSearchCV,\n",
    ")\n",
    "from sklearn.feature_selection import SelectKBest, f_classif\n",
    "from imblearn.over_sampling import SMOTE, SMOTENC, ADASYN\n",
    "from imblearn.combine import SMOTEENN"
   ]
  },
  {
   "cell_type": "code",
   "execution_count": 2,
   "metadata": {},
   "outputs": [],
   "source": [
    "def read_file(file_path):\n",
    "    return pd.read_csv(file_path)"
   ]
  },
  {
   "cell_type": "code",
   "execution_count": 3,
   "metadata": {},
   "outputs": [],
   "source": [
    "def data_split(df, test_size = None):\n",
    "    X = df.drop('target', axis = 1)\n",
    "    y = df['target']\n",
    "\n",
    "    X_train, X_test, y_train, y_test = train_test_split(X, y, test_size = test_size, random_state=42)\n",
    "\n",
    "    return X_train, X_test, y_train, y_test"
   ]
  },
  {
   "cell_type": "code",
   "execution_count": 4,
   "metadata": {},
   "outputs": [],
   "source": [
    "def data_augmentation(X_train, y_train):\n",
    "    aug = SMOTE(random_state=42)\n",
    "    # aug = ADASYN(random_state=42)\n",
    "    # aug = SMOTEENN(random_state=42)\n",
    "    X_train_resampled, y_train_resampled = aug.fit_resample(X_train, y_train)\n",
    "\n",
    "    return X_train_resampled, y_train_resampled"
   ]
  },
  {
   "cell_type": "code",
   "execution_count": 5,
   "metadata": {},
   "outputs": [],
   "source": [
    "def best_features(X_train, X_val, y_train):\n",
    "    # k_best_features = int(0.2 * X_train.shape[1])\n",
    "    k_best_features = 15\n",
    "    selector = SelectKBest(score_func=f_classif, k=k_best_features)\n",
    "    X_train_selected = selector.fit_transform(X_train, y_train)\n",
    "    X_val_selected = selector.transform(X_val)\n",
    "\n",
    "    return X_train_selected, X_val_selected"
   ]
  },
  {
   "cell_type": "code",
   "execution_count": 6,
   "metadata": {},
   "outputs": [],
   "source": [
    "def random_forest_learning_and_evaluation(x_train, y_train, x_val, y_val, param_grid):\n",
    "    if param_grid:\n",
    "        model = RandomForestClassifier(\n",
    "            n_estimators=param_grid['n_estimators'], \n",
    "            max_depth=param_grid['max_depth'],\n",
    "            min_samples_leaf=param_grid['min_samples_leaf'],\n",
    "            min_samples_split=param_grid['min_samples_split'],\n",
    "            random_state = 42\n",
    "        )\n",
    "    else:\n",
    "        model = RandomForestClassifier(random_state=42)\n",
    "        \n",
    "    model.fit(x_train, y_train)\n",
    "\n",
    "    y_pred = model.predict(x_val)\n",
    "    print('Classification Report:\\n', classification_report(y_val, y_pred))\n",
    "    print('ROC-AUC Score:', roc_auc_score(y_val, y_pred))\n",
    "    print('Confusion Matrix:\\n', confusion_matrix(y_val, y_pred))\n",
    "\n",
    "    return model"
   ]
  },
  {
   "cell_type": "code",
   "execution_count": 7,
   "metadata": {},
   "outputs": [],
   "source": [
    "def parameter_tuning(x_train, y_train):\n",
    "    param_grid = {\n",
    "        'n_estimators': [10, 100],\n",
    "        'max_depth': [6, 8, 10, 12],\n",
    "        'min_samples_leaf': [8, 12, 18],\n",
    "        'min_samples_split': [8, 16, 20],\n",
    "    }\n",
    "\n",
    "    grid_search = GridSearchCV(RandomForestClassifier(random_state = 42), param_grid, cv = 3, scoring = 'roc_auc')\n",
    "    grid_search.fit(x_train, y_train)\n",
    "\n",
    "    best_params = grid_search.best_params_\n",
    "    print('Best Hyperparameters:', best_params)\n",
    "    \n",
    "    return best_params"
   ]
  },
  {
   "cell_type": "code",
   "execution_count": 8,
   "metadata": {},
   "outputs": [],
   "source": [
    "def xgboost_learning_and_evaluation(x_train, y_train, x_val, y_val, param_grid):\n",
    "    if param_grid:\n",
    "        model = XGBClassifier(\n",
    "            booster = 'gbtree',\n",
    "            objective = 'binary:logistic',\n",
    "            silent=0,\n",
    "            n_estimators=param_grid['n_estimators'], \n",
    "            max_depth=param_grid['max_depth'],\n",
    "            learning_rate=param_grid['learning_rate'],\n",
    "            random_state = 42,\n",
    "        )\n",
    "    else:\n",
    "        model = XGBClassifier(random_state=42, use_label_encoder=False, eval_metric='logloss',)\n",
    "        \n",
    "    model.fit(x_train, y_train)\n",
    "\n",
    "    y_pred = model.predict(x_val)\n",
    "    print('Classification Report:\\n', classification_report(y_val, y_pred))\n",
    "    print('ROC-AUC Score:', roc_auc_score(y_val, y_pred))\n",
    "    print('Confusion Matrix:\\n', confusion_matrix(y_val, y_pred))\n",
    "\n",
    "    return model"
   ]
  },
  {
   "cell_type": "code",
   "execution_count": 9,
   "metadata": {},
   "outputs": [],
   "source": [
    "def xgboost_parameter_tuning(x_train, y_train):\n",
    "    param_grid = {\n",
    "        'n_estimators': [100, 200, 300, 400, 500, 600],\n",
    "        'max_depth': [3, 5, 10, 15],\n",
    "        'learning_rate': [0.01, 0.05, 0.1, 0.2],\n",
    "    }\n",
    "\n",
    "    grid_search = GridSearchCV(\n",
    "        XGBClassifier(random_state=42),\n",
    "        param_grid, \n",
    "        cv=3, \n",
    "        scoring='f1'\n",
    "    )\n",
    "\n",
    "    grid_search.fit(x_train, y_train)\n",
    "\n",
    "    best_params = grid_search.best_params_\n",
    "    print('Best Hyperparameters:', best_params)\n",
    "    \n",
    "    return best_params"
   ]
  },
  {
   "cell_type": "code",
   "execution_count": 10,
   "metadata": {},
   "outputs": [],
   "source": [
    "def lightgbm_learning_and_evaluation(x_train, y_train, x_val, y_val, param_grid):\n",
    "    if param_grid:\n",
    "        model = LGBMClassifier(\n",
    "            n_estimators=param_grid['n_estimators'], \n",
    "            max_depth=param_grid['max_depth'],\n",
    "            learning_rate=param_grid['learning_rate'],\n",
    "            subsample=param_grid['subsample'],\n",
    "            colsample_bytree=param_grid['colsample_bytree'],\n",
    "            random_state = 42,\n",
    "            use_label_encoder=False,\n",
    "            eval_metric='logloss',\n",
    "        )\n",
    "    else:\n",
    "        model = LGBMClassifier(random_state=42, use_label_encoder=False, eval_metric='logloss',)\n",
    "        \n",
    "    model.fit(x_train, y_train)\n",
    "\n",
    "    y_pred = model.predict(x_val)\n",
    "    print('Classification Report:\\n', classification_report(y_val, y_pred))\n",
    "    print('ROC-AUC Score:', roc_auc_score(y_val, y_pred))\n",
    "    print('Confusion Matrix:\\n', confusion_matrix(y_val, y_pred))\n",
    "\n",
    "    return model"
   ]
  },
  {
   "cell_type": "code",
   "execution_count": 11,
   "metadata": {},
   "outputs": [],
   "source": [
    "def lightgbm_parameter_tuning(x_train, y_train):\n",
    "    param_grid = {\n",
    "        'n_estimators': [50, 100, 150],\n",
    "        'max_depth': [3, 6, 9],\n",
    "        'learning_rate': [0.01, 0.1, 0.2],\n",
    "        'subsample': [0.6, 0.8, 1.0],\n",
    "        'colsample_bytree': [0.6, 0.8, 1.0]\n",
    "    }\n",
    "\n",
    "    grid_search = GridSearchCV(\n",
    "        LGBMClassifier(random_state=42),\n",
    "        param_grid, \n",
    "        cv=3, \n",
    "        scoring='roc_auc'\n",
    "    )\n",
    "\n",
    "    grid_search.fit(x_train, y_train)\n",
    "\n",
    "    best_params = grid_search.best_params_\n",
    "    print('Best Hyperparameters:', best_params)\n",
    "    \n",
    "    return best_params"
   ]
  },
  {
   "cell_type": "code",
   "execution_count": 12,
   "metadata": {},
   "outputs": [],
   "source": [
    "def adaboost_learning_and_evaluation(x_train, y_train, x_val, y_val, param_grid):\n",
    "    if param_grid:\n",
    "        model = AdaBoostClassifier(\n",
    "            n_estimators=param_grid['n_estimators'], \n",
    "            learning_rate=param_grid['learning_rate'],\n",
    "            base_estimator__max_depth=param_grid['base_estimator__max_depth'],\n",
    "            random_state = 42,\n",
    "        )\n",
    "    else:\n",
    "        model = AdaBoostClassifier(random_state=42)\n",
    "        \n",
    "    model.fit(x_train, y_train)\n",
    "\n",
    "    y_pred = model.predict(x_val)\n",
    "    print('Classification Report:\\n', classification_report(y_val, y_pred))\n",
    "    print('ROC-AUC Score:', roc_auc_score(y_val, y_pred))\n",
    "    print('Confusion Matrix:\\n', confusion_matrix(y_val, y_pred))\n",
    "\n",
    "    return model"
   ]
  },
  {
   "cell_type": "code",
   "execution_count": 13,
   "metadata": {},
   "outputs": [],
   "source": [
    "def adaboost_parameter_tuning(x_train, y_train):\n",
    "    param_grid_ada = {\n",
    "        'n_estimators': [50, 100, 150],\n",
    "        'learning_rate': [0.01, 0.1, 1.0],\n",
    "        'base_estimator__max_depth': [1, 2, 3]\n",
    "    }\n",
    "\n",
    "    base_estimator = DecisionTreeClassifier(random_state=42)\n",
    "    grid_search = GridSearchCV(\n",
    "        AdaBoostClassifier(base_estimator=base_estimator, random_state=42),\n",
    "        param_grid_ada, \n",
    "        cv=3, \n",
    "        scoring='roc_auc'\n",
    "    )\n",
    "\n",
    "    grid_search.fit(x_train, y_train)\n",
    "\n",
    "    best_params = grid_search.best_params_\n",
    "    print('Best Hyperparameters:', best_params)\n",
    "    \n",
    "    return best_params"
   ]
  },
  {
   "cell_type": "code",
   "execution_count": 14,
   "metadata": {},
   "outputs": [],
   "source": [
    "def dataframe_to_csv(df, file_name):\n",
    "    df.to_csv(file_name, index = False)\n",
    "    print(f'Data Saved as {file_name}')"
   ]
  },
  {
   "cell_type": "code",
   "execution_count": 15,
   "metadata": {},
   "outputs": [],
   "source": [
    "# PATH = r'D:\\LGAimers\\Hackerton\\data\\preprocessed_train_data_StandardScaler.csv'\n",
    "# PATH = r'D:\\LGAimers\\Hackerton\\Inheon\\data\\preprocessed_train_data_RobustScaler.csv'\n",
    "# PATH = r'D:\\LGAimers\\Hackerton\\data\\preprocessed_train_data_Normalizer.csv'\n",
    "# PATH = r'D:\\LGAimers\\Hackerton\\Inheon\\data\\scaled_train_data_Robust.csv'\n",
    "# PATH = r'D:\\LGAimers\\Hackerton\\Inheon\\data\\scaled_train_data_Normalizer.csv'\n",
    "# PATH = r'D:\\LGAimers\\Hackerton\\Inheon\\data\\outlier_scaled_train_data_Robust.csv'\n",
    "# PATH = r'D:\\LGAimers\\Hackerton\\Inheon\\data\\outlier_scaled_train_data_Standard.csv'\n",
    "# PATH = r'D:\\LGAimers\\Hackerton\\Inheon\\data\\use_this_train_data_robust.csv'\n",
    "# PATH = r'D:\\LGAimers\\Hackerton\\Inheon\\data\\use_this_train_data_standard.csv'\n",
    "PATH = r'D:\\LGAimers\\Hackerton\\Inheon\\data\\use_this_train_data_normalizer.csv'\n",
    "df = read_file(PATH)"
   ]
  },
  {
   "cell_type": "code",
   "execution_count": null,
   "metadata": {},
   "outputs": [],
   "source": [
    "X_train, X_val, y_train, y_val = data_split(df, test_size = 0.2)"
   ]
  },
  {
   "cell_type": "code",
   "execution_count": null,
   "metadata": {},
   "outputs": [],
   "source": [
    "y_train = y_train.replace('Normal', 0).replace('AbNormal', 1)\n",
    "y_val = y_val.replace('Normal', 0).replace('AbNormal', 1)"
   ]
  },
  {
   "cell_type": "code",
   "execution_count": null,
   "metadata": {},
   "outputs": [],
   "source": [
    "print(f'X_train.shape = {X_train.shape}')\n",
    "print(f'X_val.shape = {X_val.shape}')\n",
    "print(f'y_train.shape = {y_train.shape}')\n",
    "print(f'y_val.shape = {y_val.shape}')"
   ]
  },
  {
   "cell_type": "code",
   "execution_count": null,
   "metadata": {},
   "outputs": [],
   "source": [
    "y_train.describe()"
   ]
  },
  {
   "cell_type": "code",
   "execution_count": null,
   "metadata": {},
   "outputs": [],
   "source": [
    "X_train_selected, X_val_selected = best_features(X_train=X_train, X_val=X_val, y_train=y_train)\n"
   ]
  },
  {
   "cell_type": "code",
   "execution_count": null,
   "metadata": {},
   "outputs": [],
   "source": [
    "X_train_resampled, y_train_resampled = data_augmentation(X_train=X_train_selected, y_train=y_train)"
   ]
  },
  {
   "cell_type": "code",
   "execution_count": null,
   "metadata": {},
   "outputs": [],
   "source": [
    "print(f'X_train_resampled.shape = {X_train_resampled.shape}')\n",
    "print(f'y_train_resampled.shape = {y_train_resampled.shape}')"
   ]
  },
  {
   "cell_type": "code",
   "execution_count": null,
   "metadata": {},
   "outputs": [],
   "source": [
    "# best_params_adaboost = adaboost_parameter_tuning(X_train_resampled, y_train_resampled)"
   ]
  },
  {
   "cell_type": "code",
   "execution_count": null,
   "metadata": {},
   "outputs": [],
   "source": [
    "# grid_search_adaboost_model = adaboost_learning_and_evaluation(\n",
    "#     x_train=X_train_resampled,\n",
    "#     y_train=y_train_resampled,\n",
    "#     x_val=X_val_selected,\n",
    "#     y_val=y_val,\n",
    "#     param_grid=best_params_adaboost,\n",
    "# )"
   ]
  },
  {
   "cell_type": "code",
   "execution_count": null,
   "metadata": {},
   "outputs": [],
   "source": [
    "# best_params_lgbm = lightgbm_parameter_tuning(X_train_resampled, y_train_resampled)"
   ]
  },
  {
   "cell_type": "code",
   "execution_count": null,
   "metadata": {},
   "outputs": [],
   "source": [
    "# grid_search_lgbm_model = lightgbm_learning_and_evaluation(\n",
    "#     x_train=X_train_resampled,\n",
    "#     y_train=y_train_resampled,\n",
    "#     x_val=X_val_selected,\n",
    "#     y_val=y_val,\n",
    "#     param_grid=best_params_lgbm,\n",
    "# )"
   ]
  },
  {
   "cell_type": "code",
   "execution_count": null,
   "metadata": {},
   "outputs": [],
   "source": [
    "model = LGBMClassifier(n_estimators=1000,num_leaves=64,n_jobs=-1, is_unbalance = True,boost_from_average=False, random_state=42)\n",
    "        \n",
    "model.fit(X_train_resampled, y_train_resampled)\n",
    "\n",
    "y_pred = model.predict(X_val_selected)\n",
    "print('Classification Report:\\n', classification_report(y_val, y_pred))\n",
    "print('ROC-AUC Score:', roc_auc_score(y_val, y_pred))\n",
    "print('Confusion Matrix:\\n', confusion_matrix(y_val, y_pred))"
   ]
  },
  {
   "cell_type": "code",
   "execution_count": null,
   "metadata": {},
   "outputs": [],
   "source": [
    "best_params_xgb = xgboost_parameter_tuning(X_train_resampled, y_train_resampled)"
   ]
  },
  {
   "cell_type": "code",
   "execution_count": null,
   "metadata": {},
   "outputs": [],
   "source": [
    "grid_search_xgboost_model = xgboost_learning_and_evaluation(\n",
    "    x_train=X_train_resampled,\n",
    "    y_train=y_train_resampled,\n",
    "    x_val=X_val_selected,\n",
    "    y_val=y_val,\n",
    "    param_grid=best_params_xgb,\n",
    ")"
   ]
  },
  {
   "cell_type": "code",
   "execution_count": null,
   "metadata": {},
   "outputs": [],
   "source": [
    "best_params_rf = parameter_tuning(X_train_resampled, y_train_resampled)"
   ]
  },
  {
   "cell_type": "code",
   "execution_count": null,
   "metadata": {},
   "outputs": [],
   "source": [
    "grid_search_model = random_forest_learning_and_evaluation(\n",
    "    x_train=X_train_resampled, \n",
    "    y_train=y_train_resampled, \n",
    "    x_val=X_val_selected, \n",
    "    y_val=y_val, \n",
    "    param_grid=best_params_rf,\n",
    ")"
   ]
  },
  {
   "cell_type": "code",
   "execution_count": null,
   "metadata": {},
   "outputs": [],
   "source": [
    "test_data = pd.read_csv(r'D:\\LGAimers\\Hackerton\\Inheon\\data\\use_this_test_data_normalizer.csv')"
   ]
  },
  {
   "cell_type": "code",
   "execution_count": null,
   "metadata": {},
   "outputs": [],
   "source": [
    "test_data.info()"
   ]
  },
  {
   "cell_type": "code",
   "execution_count": null,
   "metadata": {},
   "outputs": [],
   "source": [
    "test_data.describe()"
   ]
  },
  {
   "cell_type": "code",
   "execution_count": null,
   "metadata": {},
   "outputs": [],
   "source": [
    "X_train, X_test = best_features(X_train, test_data, y_train)"
   ]
  },
  {
   "cell_type": "code",
   "execution_count": null,
   "metadata": {},
   "outputs": [],
   "source": [
    "X_test.shape"
   ]
  },
  {
   "cell_type": "code",
   "execution_count": null,
   "metadata": {},
   "outputs": [],
   "source": [
    "model = XGBClassifier(\n",
    "    booster = 'gbtree',\n",
    "    objective = 'binary:logistic',\n",
    "    silent=0,\n",
    "    n_estimators=best_params_xgb['n_estimators'], \n",
    "    max_depth=best_params_xgb['max_depth'],\n",
    "    learning_rate=best_params_xgb['learning_rate'],\n",
    "    random_state = 42,\n",
    ")"
   ]
  },
  {
   "cell_type": "code",
   "execution_count": null,
   "metadata": {},
   "outputs": [],
   "source": [
    "model.fit(X_train_resampled, y_train_resampled)\n"
   ]
  },
  {
   "cell_type": "code",
   "execution_count": null,
   "metadata": {},
   "outputs": [],
   "source": [
    "y_pred = model.predict(X_val_selected)\n",
    "print('Classification Report:\\n', classification_report(y_val, y_pred))\n",
    "print('ROC-AUC Score:', roc_auc_score(y_val, y_pred))\n",
    "print('Confusion Matrix:\\n', confusion_matrix(y_val, y_pred))"
   ]
  },
  {
   "cell_type": "code",
   "execution_count": null,
   "metadata": {},
   "outputs": [],
   "source": [
    "y_test_pred = model.predict(X_test)"
   ]
  },
  {
   "cell_type": "code",
   "execution_count": null,
   "metadata": {},
   "outputs": [],
   "source": [
    "real_X_test = pd.read_csv(r'D:\\LGAimers\\Hackerton\\Inheon\\data\\test.csv')"
   ]
  },
  {
   "cell_type": "code",
   "execution_count": null,
   "metadata": {},
   "outputs": [],
   "source": [
    "y_test_pred = pd.Series(y_test_pred)\n",
    "print(y_test_pred.shape)\n",
    "print(real_X_test.shape)"
   ]
  },
  {
   "cell_type": "code",
   "execution_count": null,
   "metadata": {},
   "outputs": [],
   "source": [
    "X_plus_y = pd.concat([real_X_test, y_test_pred], axis = 1)"
   ]
  },
  {
   "cell_type": "code",
   "execution_count": null,
   "metadata": {},
   "outputs": [],
   "source": [
    "X_plus_y = X_plus_y.drop('target', axis = 1)\n",
    "X_plus_y.rename(columns = {0: 'target'}, inplace = True)\n",
    "print(X_plus_y)"
   ]
  },
  {
   "cell_type": "code",
   "execution_count": null,
   "metadata": {},
   "outputs": [],
   "source": [
    "submission = pd.concat([X_plus_y['Set ID'], X_plus_y['target']], axis = 1)"
   ]
  },
  {
   "cell_type": "code",
   "execution_count": null,
   "metadata": {},
   "outputs": [],
   "source": [
    "submission"
   ]
  },
  {
   "cell_type": "code",
   "execution_count": null,
   "metadata": {},
   "outputs": [],
   "source": [
    "dataframe_to_csv(submission, 'submission.csv')"
   ]
  }
 ],
 "metadata": {
  "kernelspec": {
   "display_name": ".venv",
   "language": "python",
   "name": "python3"
  },
  "language_info": {
   "codemirror_mode": {
    "name": "ipython",
    "version": 3
   },
   "file_extension": ".py",
   "mimetype": "text/x-python",
   "name": "python",
   "nbconvert_exporter": "python",
   "pygments_lexer": "ipython3",
   "version": "3.12.4"
  }
 },
 "nbformat": 4,
 "nbformat_minor": 2
}
