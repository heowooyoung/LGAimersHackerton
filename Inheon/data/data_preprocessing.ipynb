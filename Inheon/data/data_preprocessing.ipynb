{
 "cells": [
  {
   "cell_type": "code",
   "execution_count": 126,
   "metadata": {},
   "outputs": [],
   "source": [
    "import os\n",
    "import numpy as np\n",
    "import pandas as pd\n",
    "import matplotlib.pyplot as plt\n",
    "import joblib\n",
    "\n",
    "from sklearn.ensemble import RandomForestClassifier, AdaBoostClassifier\n",
    "from sklearn.metrics import (\n",
    "    accuracy_score,\n",
    "    classification_report,\n",
    "    confusion_matrix,\n",
    "    f1_score,\n",
    "    precision_score,\n",
    "    recall_score,\n",
    ")\n",
    "from sklearn.preprocessing import LabelEncoder\n",
    "from sklearn.preprocessing import StandardScaler, RobustScaler, Normalizer\n",
    "from sklearn.model_selection import train_test_split, cross_val_score, cross_val_predict, KFold\n",
    "from sklearn.feature_selection import SelectKBest, f_classif\n",
    "from sklearn.pipeline import Pipeline\n",
    "from imblearn.over_sampling import SMOTE, SMOTENC\n",
    "from xgboost import XGBClassifier\n",
    "from lightgbm import LGBMClassifier\n",
    "from tqdm import tqdm"
   ]
  },
  {
   "cell_type": "code",
   "execution_count": 127,
   "metadata": {},
   "outputs": [],
   "source": [
    "def read_file(file_path):\n",
    "    return pd.read_csv(file_path)"
   ]
  },
  {
   "cell_type": "code",
   "execution_count": 128,
   "metadata": {},
   "outputs": [],
   "source": [
    "def describe_data(df, describe_type):\n",
    "    if describe_type == 'describe' or describe_type == None:\n",
    "        print(df.describe())\n",
    "    elif describe_type == 'info':\n",
    "        print(df.info())"
   ]
  },
  {
   "cell_type": "code",
   "execution_count": 129,
   "metadata": {},
   "outputs": [],
   "source": [
    "def missing_values_delete_with_threshold(df, threshold):\n",
    "    missing_percentage = (df.isnull().sum() / len(df)) * 100\n",
    "    columns_to_drop = missing_percentage[missing_percentage > threshold].index\n",
    "    cleaned_df = df.drop(columns = columns_to_drop)\n",
    "    print('Following columns are going to drop:')\n",
    "    print(columns_to_drop)\n",
    "\n",
    "    return cleaned_df"
   ]
  },
  {
   "cell_type": "code",
   "execution_count": 130,
   "metadata": {},
   "outputs": [],
   "source": [
    "def fill_na(df):\n",
    "    num_cols = df.select_dtypes(include=['float64', 'int64']).columns\n",
    "    for col in num_cols:\n",
    "        if df[col].isnull().sum() > 0:\n",
    "            df[col].fillna(df[col].median(), inplace=True)\n",
    "\n",
    "    cat_cols = df.select_dtypes(include=['object']).columns\n",
    "    for col in cat_cols:\n",
    "        if df[col].isnull().sum() > 0:\n",
    "            df[col].fillna(df[col].mode()[0], inplace=True) # 최빈값\n",
    "\n",
    "    return df"
   ]
  },
  {
   "cell_type": "code",
   "execution_count": 131,
   "metadata": {},
   "outputs": [],
   "source": [
    "def change_target_type(df):\n",
    "    if df['target'].dtype != 'int':\n",
    "        print('Changing the target type...')\n",
    "        label_encoder = LabelEncoder()\n",
    "        df['target'] = label_encoder.fit_transform(df['target'])\n",
    "        print(f'Changed target type = {df['target'].dtype}')\n",
    "        return df\n",
    "    \n",
    "    else:\n",
    "        print('target is int')\n",
    "        return df"
   ]
  },
  {
   "cell_type": "code",
   "execution_count": 132,
   "metadata": {},
   "outputs": [],
   "source": [
    "def label_encoding_categorical_data(df):\n",
    "    cat_cols = df.select_dtypes(include=['object']).columns\n",
    "    \n",
    "    label_encoder = LabelEncoder()\n",
    "    for col in cat_cols:\n",
    "        df[col] = label_encoder.fit_transform(df[col].astype(str))\n",
    "\n",
    "    return df"
   ]
  },
  {
   "cell_type": "code",
   "execution_count": 133,
   "metadata": {},
   "outputs": [],
   "source": [
    "def outliers_processing(df):\n",
    "    num_cols = df.select_dtypes(include=['float64', 'int64']).columns\n",
    "    num_cols = num_cols[num_cols != 'target']\n",
    "\n",
    "    for col in num_cols:\n",
    "        Q1 = df[col].quantile(0.25)\n",
    "        Q3 = df[col].quantile(0.75)\n",
    "        IQR = Q3 - Q1\n",
    "        lower_bound = Q1 - 1.5 * IQR\n",
    "        upper_bound = Q3 + 1.5 * IQR\n",
    "\n",
    "        df[col] = df[col].apply(lambda x: lower_bound if x < lower_bound else x)\n",
    "        df[col] = df[col].apply(lambda x: upper_bound if x > upper_bound else x)\n",
    "\n",
    "    return df"
   ]
  },
  {
   "cell_type": "code",
   "execution_count": 134,
   "metadata": {},
   "outputs": [],
   "source": [
    "def scaling_processing(df, scaler):\n",
    "    num_cols = df.select_dtypes(include=['float64', 'int64']).columns\n",
    "    num_cols = num_cols[num_cols != 'target']\n",
    "\n",
    "    df_copy = df.copy()\n",
    "    df_copy[num_cols] = scaler.fit_transform(df_copy[num_cols])\n",
    "\n",
    "    return df_copy"
   ]
  },
  {
   "cell_type": "code",
   "execution_count": 135,
   "metadata": {},
   "outputs": [],
   "source": [
    "def data_split(df, test_size = None):\n",
    "    X = df.drop('target', axis = 1)\n",
    "    y = df['target']\n",
    "\n",
    "    X_train, X_test, y_train, y_test = train_test_split(X, y, test_size = test_size, random_state=42)\n",
    "\n",
    "    return X_train, X_test, y_train, y_test"
   ]
  },
  {
   "cell_type": "code",
   "execution_count": 136,
   "metadata": {},
   "outputs": [],
   "source": [
    "def data_augmentation(X, y):\n",
    "    smote = SMOTE(random_state = 42)\n",
    "    # smote = SMOTENC(random_state=42)\n",
    "    \n",
    "    X_resampled, y_resampled = smote.fit_resample(X, y)\n",
    "    \n",
    "    X_resampled_df = pd.DataFrame(X_resampled)\n",
    "    y_resampled_df = pd.DataFrame(y_resampled, columns = ['target'])\n",
    "\n",
    "    oversampled_df = pd.concat([X_resampled_df, y_resampled_df], axis = 1)\n",
    "\n",
    "    return oversampled_df"
   ]
  },
  {
   "cell_type": "code",
   "execution_count": 137,
   "metadata": {},
   "outputs": [],
   "source": [
    "def model_fit_transform(X, y, model):\n",
    "    fitted_model = model.fit(X, y)\n",
    "\n",
    "    return fitted_model"
   ]
  },
  {
   "cell_type": "code",
   "execution_count": 138,
   "metadata": {},
   "outputs": [],
   "source": [
    "def dataframe_to_csv(df, file_name):\n",
    "    df.to_csv(file_name, index = False)\n",
    "    print(f'Data Saved as {file_name}')"
   ]
  },
  {
   "cell_type": "code",
   "execution_count": 139,
   "metadata": {},
   "outputs": [],
   "source": [
    "def model_evaluation(model, x, y):\n",
    "    y_pred = model.predict(x)\n",
    "    print('Accuracy:', accuracy_score(y, y_pred))\n",
    "    print(classification_report(y, y_pred))"
   ]
  },
  {
   "cell_type": "code",
   "execution_count": 140,
   "metadata": {},
   "outputs": [],
   "source": [
    "def best_features(X_train, X_test, y_train):\n",
    "    k_best_features = int(0.2 * X_train.shape[1])\n",
    "    selector = SelectKBest(score_func=f_classif, k=k_best_features)\n",
    "    X_train_selected = selector.fit_transform(X_train, y_train)\n",
    "    X_test_selected = selector.transform(X_test)\n",
    "\n",
    "    return X_train_selected, X_test_selected"
   ]
  },
  {
   "cell_type": "code",
   "execution_count": 141,
   "metadata": {},
   "outputs": [],
   "source": [
    "def k_fold_cross_validation(k, X, y, model):\n",
    "    k = k\n",
    "    kf = KFold(n_splits=k, shuffle=True, random_state=42)\n",
    "\n",
    "    for train_index, val_index in kf.split(X):\n",
    "        X_fold_train, X_fold_val = X[train_index], X[val_index]\n",
    "        y_fold_train, y_fold_val = y[train_index], y[val_index]\n",
    "\n",
    "        model.fit(X_fold_train, y_fold_train)\n",
    "\n",
    "    return model"
   ]
  },
  {
   "cell_type": "code",
   "execution_count": 142,
   "metadata": {},
   "outputs": [],
   "source": [
    "def save_model(model, model_name):\n",
    "    joblib.dump(model, model_name +'.pkl')\n",
    "    print(f'모델이 {model_name + '.pkl'}로 저장되었습니다.')"
   ]
  },
  {
   "cell_type": "code",
   "execution_count": 143,
   "metadata": {},
   "outputs": [],
   "source": [
    "def drop_one_unique_column(df):\n",
    "    columns_to_drop = df.columns[df.nunique() <= 1]\n",
    "    df_cleaned = df.drop(columns_to_drop, axis = 1)\n",
    "\n",
    "    return df_cleaned"
   ]
  },
  {
   "cell_type": "code",
   "execution_count": 144,
   "metadata": {},
   "outputs": [],
   "source": [
    "# def ml_pipeline(df, model_name, model):\n",
    "#     X = df.drop('target', axis = 1)\n",
    "#     y = df['target']\n",
    "\n",
    "#     X_train, X_test, y_train, y_test = train_test_split(X, y, test_size = 0.3, random_state=42)\n",
    "\n",
    "#     k_best_faetures = int(0.2 * X_train.shape[1])\n",
    "#     selector = SelectKBest(score_func = f_classif, k = k_best_faetures)\n",
    "#     X_train_selected = selector.fit_transform(X_train, y_train)\n",
    "#     X_test_selected = selector.transform(X_test)\n",
    "\n",
    "#     k = 5\n",
    "#     kf = KFold(n_splits=k, shuffle = True, random_state=42)\n",
    "\n",
    "#     for train_index, val_index in kf.split(X_selected):\n",
    "#         X_fold_train, X_fold_val = X_selected[train_index], X_selected[val_index]\n",
    "#         y_fold_train, y_fold_val = y[train_index], y[val_index]\n",
    "    \n",
    "#         model.fit(X_fold_train, y_fold_train)\n",
    "\n",
    "#     joblib.dump(model, model_name+'.pkl')\n",
    "#     print(f\"모델이 {model_name+'.pkl'}로 저장되었습니다.\")\n",
    "\n",
    "#     loaded_model = joblib.load(model_name+'.pkl')\n",
    "\n",
    "#     y_test_pred = loaded_model.predict(X_)\n",
    "\n",
    "#     print(f'Training {model_name}...')\n",
    "#     y_pred = cross_val_predict(model, X_selected, y, cv = kf)\n",
    "#     accuracy = accuracy_score(y, y_pred)\n",
    "\n",
    "#     print(f\"{k}-fold 교차 검증 결과 (정확도): {accuracy}\")\n",
    "#     print(classification_report(y, y_pred))\n",
    "#     print(\"\\n\" + \"=\"*60 + \"\\n\")\n",
    "\n",
    "#     return model\n",
    "    "
   ]
  },
  {
   "cell_type": "code",
   "execution_count": 145,
   "metadata": {},
   "outputs": [],
   "source": [
    "train_df = read_file('D:\\\\LGAimers\\\\Hackerton\\\\data\\\\train.csv')"
   ]
  },
  {
   "cell_type": "code",
   "execution_count": 146,
   "metadata": {},
   "outputs": [
    {
     "name": "stdout",
     "output_type": "stream",
     "text": [
      "       Insp. Seq No._Dam  CURE END POSITION X Collect Result_Dam  \\\n",
      "count            40506.0                            40506.000000   \n",
      "mean                 1.0                              530.370809   \n",
      "std                  0.0                              369.283055   \n",
      "min                  1.0                              240.000000   \n",
      "25%                  1.0                              240.000000   \n",
      "50%                  1.0                              240.000000   \n",
      "75%                  1.0                             1000.000000   \n",
      "max                  1.0                             1000.000000   \n",
      "\n",
      "       CURE END POSITION X Unit Time_Dam  CURE END POSITION X Judge Value_Dam  \\\n",
      "count                                0.0                                  0.0   \n",
      "mean                                 NaN                                  NaN   \n",
      "std                                  NaN                                  NaN   \n",
      "min                                  NaN                                  NaN   \n",
      "25%                                  NaN                                  NaN   \n",
      "50%                                  NaN                                  NaN   \n",
      "75%                                  NaN                                  NaN   \n",
      "max                                  NaN                                  NaN   \n",
      "\n",
      "       CURE END POSITION Z Collect Result_Dam  \\\n",
      "count                            40506.000000   \n",
      "mean                                 6.320669   \n",
      "std                                  4.858988   \n",
      "min                                  2.500000   \n",
      "25%                                  2.500000   \n",
      "50%                                  2.500000   \n",
      "75%                                 12.500000   \n",
      "max                                 12.500000   \n",
      "\n",
      "       CURE END POSITION Z Unit Time_Dam  CURE END POSITION Z Judge Value_Dam  \\\n",
      "count                                0.0                                  0.0   \n",
      "mean                                 NaN                                  NaN   \n",
      "std                                  NaN                                  NaN   \n",
      "min                                  NaN                                  NaN   \n",
      "25%                                  NaN                                  NaN   \n",
      "50%                                  NaN                                  NaN   \n",
      "75%                                  NaN                                  NaN   \n",
      "max                                  NaN                                  NaN   \n",
      "\n",
      "       CURE END POSITION Θ Collect Result_Dam  \\\n",
      "count                            40506.000000   \n",
      "mean                               -21.227966   \n",
      "std                                 87.461776   \n",
      "min                                -90.000000   \n",
      "25%                                -90.000000   \n",
      "50%                                -90.000000   \n",
      "75%                                 90.000000   \n",
      "max                                 90.000000   \n",
      "\n",
      "       CURE END POSITION Θ Unit Time_Dam  CURE END POSITION Θ Judge Value_Dam  \\\n",
      "count                                0.0                                  0.0   \n",
      "mean                                 NaN                                  NaN   \n",
      "std                                  NaN                                  NaN   \n",
      "min                                  NaN                                  NaN   \n",
      "25%                                  NaN                                  NaN   \n",
      "50%                                  NaN                                  NaN   \n",
      "75%                                  NaN                                  NaN   \n",
      "max                                  NaN                                  NaN   \n",
      "\n",
      "       ...  PalletID Judge Value_Fill2  Production Qty Collect Result_Fill2  \\\n",
      "count  ...                         0.0                         40506.000000   \n",
      "mean   ...                         NaN                            73.539648   \n",
      "std    ...                         NaN                           105.176311   \n",
      "min    ...                         NaN                             0.000000   \n",
      "25%    ...                         NaN                             7.000000   \n",
      "50%    ...                         NaN                            13.000000   \n",
      "75%    ...                         NaN                           120.000000   \n",
      "max    ...                         NaN                           487.000000   \n",
      "\n",
      "       Production Qty Unit Time_Fill2  Production Qty Judge Value_Fill2  \\\n",
      "count                             0.0                               0.0   \n",
      "mean                              NaN                               NaN   \n",
      "std                               NaN                               NaN   \n",
      "min                               NaN                               NaN   \n",
      "25%                               NaN                               NaN   \n",
      "50%                               NaN                               NaN   \n",
      "75%                               NaN                               NaN   \n",
      "max                               NaN                               NaN   \n",
      "\n",
      "       Receip No Collect Result_Fill2  Receip No Unit Time_Fill2  \\\n",
      "count                    40506.000000                        0.0   \n",
      "mean                       108.691453                        NaN   \n",
      "std                        130.758018                        NaN   \n",
      "min                          0.000000                        NaN   \n",
      "25%                          1.000000                        NaN   \n",
      "50%                         49.000000                        NaN   \n",
      "75%                        196.000000                        NaN   \n",
      "max                        608.000000                        NaN   \n",
      "\n",
      "       Receip No Judge Value_Fill2  WorkMode Collect Result_Fill2  \\\n",
      "count                          0.0                   40506.000000   \n",
      "mean                           NaN                       0.771392   \n",
      "std                            NaN                       1.289203   \n",
      "min                            NaN                       0.000000   \n",
      "25%                            NaN                       0.000000   \n",
      "50%                            NaN                       1.000000   \n",
      "75%                            NaN                       1.000000   \n",
      "max                            NaN                      17.000000   \n",
      "\n",
      "       WorkMode Unit Time_Fill2  WorkMode Judge Value_Fill2  \n",
      "count                       0.0                         0.0  \n",
      "mean                        NaN                         NaN  \n",
      "std                         NaN                         NaN  \n",
      "min                         NaN                         NaN  \n",
      "25%                         NaN                         NaN  \n",
      "50%                         NaN                         NaN  \n",
      "75%                         NaN                         NaN  \n",
      "max                         NaN                         NaN  \n",
      "\n",
      "[8 rows x 427 columns]\n"
     ]
    }
   ],
   "source": [
    "describe_data(train_df, 'describe')"
   ]
  },
  {
   "cell_type": "code",
   "execution_count": 147,
   "metadata": {},
   "outputs": [
    {
     "name": "stdout",
     "output_type": "stream",
     "text": [
      "Following columns are going to drop:\n",
      "Index(['Insp Judge Code_Dam', 'CURE END POSITION X Unit Time_Dam',\n",
      "       'CURE END POSITION X Judge Value_Dam',\n",
      "       'CURE END POSITION Z Unit Time_Dam',\n",
      "       'CURE END POSITION Z Judge Value_Dam',\n",
      "       'CURE END POSITION Θ Unit Time_Dam',\n",
      "       'CURE END POSITION Θ Judge Value_Dam', 'CURE SPEED Unit Time_Dam',\n",
      "       'CURE SPEED Judge Value_Dam', 'CURE STANDBY POSITION X Unit Time_Dam',\n",
      "       ...\n",
      "       'Machine Tact time Unit Time_Fill2',\n",
      "       'Machine Tact time Judge Value_Fill2', 'PalletID Unit Time_Fill2',\n",
      "       'PalletID Judge Value_Fill2', 'Production Qty Unit Time_Fill2',\n",
      "       'Production Qty Judge Value_Fill2', 'Receip No Unit Time_Fill2',\n",
      "       'Receip No Judge Value_Fill2', 'WorkMode Unit Time_Fill2',\n",
      "       'WorkMode Judge Value_Fill2'],\n",
      "      dtype='object', length=294)\n"
     ]
    },
    {
     "name": "stderr",
     "output_type": "stream",
     "text": [
      "C:\\Users\\InheonChoi\\AppData\\Local\\Temp\\ipykernel_12532\\1921046477.py:1: FutureWarning: Downcasting behavior in `replace` is deprecated and will be removed in a future version. To retain the old behavior, explicitly call `result.infer_objects(copy=False)`. To opt-in to the future behavior, set `pd.set_option('future.no_silent_downcasting', True)`\n",
      "  train_df = train_df.replace('OK', np.nan)\n"
     ]
    }
   ],
   "source": [
    "train_df = train_df.replace('OK', np.nan)\n",
    "missing_values_delete_df = missing_values_delete_with_threshold(train_df, 50.0)"
   ]
  },
  {
   "cell_type": "code",
   "execution_count": 148,
   "metadata": {},
   "outputs": [
    {
     "name": "stdout",
     "output_type": "stream",
     "text": [
      "<class 'pandas.core.series.Series'>\n",
      "RangeIndex: 40506 entries, 0 to 40505\n",
      "Series name: target\n",
      "Non-Null Count  Dtype \n",
      "--------------  ----- \n",
      "40506 non-null  object\n",
      "dtypes: object(1)\n",
      "memory usage: 316.6+ KB\n",
      "None\n"
     ]
    }
   ],
   "source": [
    "describe_data(missing_values_delete_df['target'], 'info')"
   ]
  },
  {
   "cell_type": "code",
   "execution_count": 149,
   "metadata": {},
   "outputs": [
    {
     "name": "stdout",
     "output_type": "stream",
     "text": [
      "<class 'pandas.core.frame.DataFrame'>\n",
      "RangeIndex: 40506 entries, 0 to 40505\n",
      "Columns: 170 entries, Wip Line_Dam to target\n",
      "dtypes: float64(72), int64(77), object(21)\n",
      "memory usage: 52.5+ MB\n",
      "None\n",
      "count      40506\n",
      "unique         2\n",
      "top       Normal\n",
      "freq       38156\n",
      "Name: target, dtype: object\n",
      "False\n"
     ]
    }
   ],
   "source": [
    "filled_na_df = fill_na(missing_values_delete_df)\n",
    "describe_data(filled_na_df, 'info')\n",
    "describe_data(filled_na_df['target'], 'describe')\n",
    "print(type(filled_na_df['target'][0]) == 'str')"
   ]
  },
  {
   "cell_type": "code",
   "execution_count": 150,
   "metadata": {},
   "outputs": [
    {
     "data": {
      "text/plain": [
       "dtype('O')"
      ]
     },
     "execution_count": 150,
     "metadata": {},
     "output_type": "execute_result"
    }
   ],
   "source": [
    "filled_na_df['target'].dtype"
   ]
  },
  {
   "cell_type": "code",
   "execution_count": 151,
   "metadata": {},
   "outputs": [
    {
     "name": "stdout",
     "output_type": "stream",
     "text": [
      "Changing the target type...\n",
      "Changed target type = int64\n"
     ]
    }
   ],
   "source": [
    "target_type_changed_df = change_target_type(filled_na_df)"
   ]
  },
  {
   "cell_type": "code",
   "execution_count": 152,
   "metadata": {},
   "outputs": [
    {
     "name": "stdout",
     "output_type": "stream",
     "text": [
      "       Wip Line_Dam  Process Desc._Dam  Equipment_Dam  Model.Suffix_Dam  \\\n",
      "count       40506.0            40506.0   40506.000000      40506.000000   \n",
      "mean            0.0                0.0       0.382067          0.346739   \n",
      "std             0.0                0.0       0.485899          0.927665   \n",
      "min             0.0                0.0       0.000000          0.000000   \n",
      "25%             0.0                0.0       0.000000          0.000000   \n",
      "50%             0.0                0.0       0.000000          0.000000   \n",
      "75%             0.0                0.0       1.000000          0.000000   \n",
      "max             0.0                0.0       1.000000          6.000000   \n",
      "\n",
      "       Workorder_Dam  Insp. Seq No._Dam  \\\n",
      "count   40506.000000            40506.0   \n",
      "mean      307.362218                1.0   \n",
      "std       183.213263                0.0   \n",
      "min         0.000000                1.0   \n",
      "25%       162.000000                1.0   \n",
      "50%       298.000000                1.0   \n",
      "75%       449.000000                1.0   \n",
      "max       662.000000                1.0   \n",
      "\n",
      "       CURE END POSITION X Collect Result_Dam  \\\n",
      "count                            40506.000000   \n",
      "mean                               530.370809   \n",
      "std                                369.283055   \n",
      "min                                240.000000   \n",
      "25%                                240.000000   \n",
      "50%                                240.000000   \n",
      "75%                               1000.000000   \n",
      "max                               1000.000000   \n",
      "\n",
      "       CURE END POSITION Z Collect Result_Dam  \\\n",
      "count                            40506.000000   \n",
      "mean                                 6.320669   \n",
      "std                                  4.858988   \n",
      "min                                  2.500000   \n",
      "25%                                  2.500000   \n",
      "50%                                  2.500000   \n",
      "75%                                 12.500000   \n",
      "max                                 12.500000   \n",
      "\n",
      "       CURE END POSITION Θ Collect Result_Dam  CURE SPEED Collect Result_Dam  \\\n",
      "count                            40506.000000                   40506.000000   \n",
      "mean                               -21.227966                      73.864119   \n",
      "std                                 87.461776                       9.761997   \n",
      "min                                -90.000000                      70.000000   \n",
      "25%                                -90.000000                      70.000000   \n",
      "50%                                -90.000000                      70.000000   \n",
      "75%                                 90.000000                      70.000000   \n",
      "max                                 90.000000                     105.000000   \n",
      "\n",
      "       ...  Head Clean Position Z Collect Result_Fill2  \\\n",
      "count  ...                                40506.000000   \n",
      "mean   ...                                   66.972414   \n",
      "std    ...                                   20.527895   \n",
      "min    ...                                   50.000000   \n",
      "25%    ...                                   50.000000   \n",
      "50%    ...                                   50.000000   \n",
      "75%    ...                                   91.800000   \n",
      "max    ...                                   91.800000   \n",
      "\n",
      "       Head Purge Position X Collect Result_Fill2  \\\n",
      "count                                40506.000000   \n",
      "mean                                   164.156081   \n",
      "std                                     87.513657   \n",
      "min                                     91.800000   \n",
      "25%                                     91.800000   \n",
      "50%                                     91.800000   \n",
      "75%                                    270.000000   \n",
      "max                                    270.000000   \n",
      "\n",
      "       Head Purge Position Y Collect Result_Fill2  \\\n",
      "count                                40506.000000   \n",
      "mean                                   180.671505   \n",
      "std                                    108.041552   \n",
      "min                                     50.000000   \n",
      "25%                                     50.000000   \n",
      "50%                                    270.000000   \n",
      "75%                                    270.000000   \n",
      "max                                    270.000000   \n",
      "\n",
      "       Head Purge Position Z Collect Result_Fill2  \\\n",
      "count                                40506.000000   \n",
      "mean                                    64.211351   \n",
      "std                                     17.188429   \n",
      "min                                     50.000000   \n",
      "25%                                     50.000000   \n",
      "50%                                     50.000000   \n",
      "75%                                     85.000000   \n",
      "max                                     85.000000   \n",
      "\n",
      "       Machine Tact time Collect Result_Fill2  PalletID Collect Result_Fill2  \\\n",
      "count                            40506.000000                   40506.000000   \n",
      "mean                                62.048909                      14.385928   \n",
      "std                                 36.466634                       7.261448   \n",
      "min                                 17.600000                       1.000000   \n",
      "25%                                 19.600000                       7.000000   \n",
      "50%                                 85.000000                      19.500000   \n",
      "75%                                 85.000000                      19.900000   \n",
      "max                                284.100000                      52.900000   \n",
      "\n",
      "       Production Qty Collect Result_Fill2  Receip No Collect Result_Fill2  \\\n",
      "count                         40506.000000                    40506.000000   \n",
      "mean                             73.539648                      108.691453   \n",
      "std                             105.176311                      130.758018   \n",
      "min                               0.000000                        0.000000   \n",
      "25%                               7.000000                        1.000000   \n",
      "50%                              13.000000                       49.000000   \n",
      "75%                             120.000000                      196.000000   \n",
      "max                             487.000000                      608.000000   \n",
      "\n",
      "       WorkMode Collect Result_Fill2        target  \n",
      "count                   40506.000000  40506.000000  \n",
      "mean                        0.771392      0.941984  \n",
      "std                         1.289203      0.233777  \n",
      "min                         0.000000      0.000000  \n",
      "25%                         0.000000      1.000000  \n",
      "50%                         1.000000      1.000000  \n",
      "75%                         1.000000      1.000000  \n",
      "max                        17.000000      1.000000  \n",
      "\n",
      "[8 rows x 170 columns]\n"
     ]
    }
   ],
   "source": [
    "label_encoded_df = label_encoding_categorical_data(target_type_changed_df)\n",
    "describe_data(label_encoded_df, 'describe')"
   ]
  },
  {
   "cell_type": "code",
   "execution_count": 153,
   "metadata": {},
   "outputs": [
    {
     "name": "stdout",
     "output_type": "stream",
     "text": [
      "count    40506.000000\n",
      "mean         0.941984\n",
      "std          0.233777\n",
      "min          0.000000\n",
      "25%          1.000000\n",
      "50%          1.000000\n",
      "75%          1.000000\n",
      "max          1.000000\n",
      "Name: target, dtype: float64\n"
     ]
    }
   ],
   "source": [
    "describe_data(label_encoded_df['target'], 'describe')"
   ]
  },
  {
   "cell_type": "code",
   "execution_count": 154,
   "metadata": {},
   "outputs": [
    {
     "name": "stdout",
     "output_type": "stream",
     "text": [
      "<class 'pandas.core.frame.DataFrame'>\n",
      "RangeIndex: 40506 entries, 0 to 40505\n",
      "Columns: 170 entries, Wip Line_Dam to target\n",
      "dtypes: float64(110), int64(60)\n",
      "memory usage: 52.5 MB\n",
      "None\n"
     ]
    }
   ],
   "source": [
    "outlier_eliminated_df = outliers_processing(label_encoded_df)\n",
    "describe_data(outlier_eliminated_df, 'info')"
   ]
  },
  {
   "cell_type": "code",
   "execution_count": 155,
   "metadata": {},
   "outputs": [
    {
     "name": "stdout",
     "output_type": "stream",
     "text": [
      "(40506, 170)\n",
      "(40506, 127)\n"
     ]
    }
   ],
   "source": [
    "print(outlier_eliminated_df.shape)\n",
    "one_unique_dropped_df = drop_one_unique_column(outlier_eliminated_df)\n",
    "print(one_unique_dropped_df.shape)"
   ]
  },
  {
   "cell_type": "code",
   "execution_count": 156,
   "metadata": {},
   "outputs": [
    {
     "name": "stdout",
     "output_type": "stream",
     "text": [
      "Data Saved as preprocessed_train_data_Normalizer.csv\n",
      "       Equipment_Dam  Workorder_Dam  CURE END POSITION X Collect Result_Dam  \\\n",
      "count   40506.000000   40506.000000                            40506.000000   \n",
      "mean        0.000013       0.010613                                0.017924   \n",
      "std         0.000018       0.006746                                0.014192   \n",
      "min         0.000000       0.000000                                0.004908   \n",
      "25%         0.000000       0.004652                                0.007394   \n",
      "50%         0.000000       0.011451                                0.008646   \n",
      "75%         0.000031       0.015061                                0.031084   \n",
      "max         0.000050       0.023868                                0.049704   \n",
      "\n",
      "       CURE END POSITION Z Collect Result_Dam  \\\n",
      "count                            40506.000000   \n",
      "mean                                 0.000215   \n",
      "std                                  0.000184   \n",
      "min                                  0.000051   \n",
      "25%                                  0.000077   \n",
      "50%                                  0.000090   \n",
      "75%                                  0.000389   \n",
      "max                                  0.000621   \n",
      "\n",
      "       CURE END POSITION Θ Collect Result_Dam  \\\n",
      "count                            40506.000000   \n",
      "mean                                -0.000494   \n",
      "std                                  0.002955   \n",
      "min                                 -0.004551   \n",
      "25%                                 -0.002849   \n",
      "50%                                 -0.002072   \n",
      "75%                                  0.002798   \n",
      "max                                  0.004473   \n",
      "\n",
      "       CURE START POSITION X Collect Result_Dam  \\\n",
      "count                              40506.000000   \n",
      "mean                                   0.023196   \n",
      "std                                    0.012607   \n",
      "min                                    0.006423   \n",
      "25%                                    0.009967   \n",
      "50%                                    0.023709   \n",
      "75%                                    0.032601   \n",
      "max                                    0.052081   \n",
      "\n",
      "       CURE START POSITION Θ Collect Result_Dam  \\\n",
      "count                              40506.000000   \n",
      "mean                                  -0.000494   \n",
      "std                                    0.002955   \n",
      "min                                   -0.004551   \n",
      "25%                                   -0.002849   \n",
      "50%                                   -0.002072   \n",
      "75%                                    0.002798   \n",
      "max                                    0.004473   \n",
      "\n",
      "       DISCHARGED SPEED OF RESIN Collect Result_Dam  \\\n",
      "count                                  40506.000000   \n",
      "mean                                       0.000418   \n",
      "std                                        0.000136   \n",
      "min                                        0.000204   \n",
      "25%                                        0.000306   \n",
      "50%                                        0.000497   \n",
      "75%                                        0.000522   \n",
      "max                                        0.000577   \n",
      "\n",
      "       DISCHARGED TIME OF RESIN(Stage1) Collect Result_Dam  \\\n",
      "count                                       40506.000000     \n",
      "mean                                            0.000488     \n",
      "std                                             0.000251     \n",
      "min                                             0.000196     \n",
      "25%                                             0.000407     \n",
      "50%                                             0.000434     \n",
      "75%                                             0.000530     \n",
      "max                                             0.001077     \n",
      "\n",
      "       DISCHARGED TIME OF RESIN(Stage2) Collect Result_Dam  ...  \\\n",
      "count                                       40506.000000    ...   \n",
      "mean                                            0.000236    ...   \n",
      "std                                             0.000125    ...   \n",
      "min                                             0.000078    ...   \n",
      "25%                                             0.000150    ...   \n",
      "50%                                             0.000208    ...   \n",
      "75%                                             0.000303    ...   \n",
      "max                                             0.000536    ...   \n",
      "\n",
      "       Head Clean Position Z Collect Result_Fill2  \\\n",
      "count                                40506.000000   \n",
      "mean                                     0.002066   \n",
      "std                                      0.000571   \n",
      "min                                      0.001163   \n",
      "25%                                      0.001642   \n",
      "50%                                      0.001877   \n",
      "75%                                      0.002484   \n",
      "max                                      0.004274   \n",
      "\n",
      "       Head Purge Position X Collect Result_Fill2  \\\n",
      "count                                40506.000000   \n",
      "mean                                     0.004893   \n",
      "std                                      0.002293   \n",
      "min                                      0.002135   \n",
      "25%                                      0.003014   \n",
      "50%                                      0.004560   \n",
      "75%                                      0.006215   \n",
      "max                                      0.012570   \n",
      "\n",
      "       Head Purge Position Y Collect Result_Fill2  \\\n",
      "count                                40506.000000   \n",
      "mean                                     0.006330   \n",
      "std                                      0.004359   \n",
      "min                                      0.001022   \n",
      "25%                                      0.001531   \n",
      "50%                                      0.008448   \n",
      "75%                                      0.009395   \n",
      "max                                      0.013652   \n",
      "\n",
      "       Head Purge Position Z Collect Result_Fill2  \\\n",
      "count                                40506.000000   \n",
      "mean                                     0.001993   \n",
      "std                                      0.000504   \n",
      "min                                      0.001163   \n",
      "25%                                      0.001642   \n",
      "50%                                      0.001787   \n",
      "75%                                      0.002484   \n",
      "max                                      0.003957   \n",
      "\n",
      "       Machine Tact time Collect Result_Fill2  PalletID Collect Result_Fill2  \\\n",
      "count                            40506.000000                   40506.000000   \n",
      "mean                                 0.002165                       0.000499   \n",
      "std                                  0.001467                       0.000300   \n",
      "min                                  0.000360                       0.000020   \n",
      "25%                                  0.000588                       0.000161   \n",
      "50%                                  0.002659                       0.000623   \n",
      "75%                                  0.002958                       0.000692   \n",
      "max                                  0.008521                       0.001316   \n",
      "\n",
      "       Production Qty Collect Result_Fill2  Receip No Collect Result_Fill2  \\\n",
      "count                         40506.000000                    40506.000000   \n",
      "mean                              0.001926                        0.003868   \n",
      "std                               0.002693                        0.004671   \n",
      "min                               0.000000                        0.000000   \n",
      "25%                               0.000250                        0.000031   \n",
      "50%                               0.000465                        0.001729   \n",
      "75%                               0.003028                        0.006958   \n",
      "max                               0.013473                        0.024673   \n",
      "\n",
      "       WorkMode Collect Result_Fill2        target  \n",
      "count                   40506.000000  40506.000000  \n",
      "mean                        0.000023      0.941984  \n",
      "std                         0.000022      0.233777  \n",
      "min                         0.000000      0.000000  \n",
      "25%                         0.000000      1.000000  \n",
      "50%                         0.000031      1.000000  \n",
      "75%                         0.000036      1.000000  \n",
      "max                         0.000124      1.000000  \n",
      "\n",
      "[8 rows x 127 columns]\n"
     ]
    }
   ],
   "source": [
    "# scaler = StandardScaler()\n",
    "# scaler = RobustScaler()\n",
    "scaler = Normalizer()\n",
    "scaled_df = scaling_processing(one_unique_dropped_df, scaler)\n",
    "dataframe_to_csv(scaled_df, 'preprocessed_train_data_RobustScaler.csv')\n",
    "\n",
    "describe_data(scaled_df, 'describe')"
   ]
  },
  {
   "cell_type": "code",
   "execution_count": 157,
   "metadata": {},
   "outputs": [],
   "source": [
    "# plt.rcParams['figure.figsize'] = [20, 200]\n",
    "# scaled_df.hist(bins = 30, layout=(100, 2))\n",
    "# plt.show()"
   ]
  },
  {
   "cell_type": "code",
   "execution_count": 158,
   "metadata": {},
   "outputs": [
    {
     "ename": "FileNotFoundError",
     "evalue": "[Errno 2] No such file or directory: './scaled_data.csv'",
     "output_type": "error",
     "traceback": [
      "\u001b[1;31m---------------------------------------------------------------------------\u001b[0m",
      "\u001b[1;31mFileNotFoundError\u001b[0m                         Traceback (most recent call last)",
      "Cell \u001b[1;32mIn[158], line 1\u001b[0m\n\u001b[1;32m----> 1\u001b[0m X_train, X_test, y_train, y_test \u001b[38;5;241m=\u001b[39m data_split(\u001b[43mpd\u001b[49m\u001b[38;5;241;43m.\u001b[39;49m\u001b[43mread_csv\u001b[49m\u001b[43m(\u001b[49m\u001b[38;5;124;43m'\u001b[39;49m\u001b[38;5;124;43m./scaled_data.csv\u001b[39;49m\u001b[38;5;124;43m'\u001b[39;49m\u001b[43m)\u001b[49m, test_size\u001b[38;5;241m=\u001b[39m\u001b[38;5;241m0.3\u001b[39m)\n",
      "File \u001b[1;32md:\\LGAimers\\Hackerton\\.venv\\Lib\\site-packages\\pandas\\io\\parsers\\readers.py:1026\u001b[0m, in \u001b[0;36mread_csv\u001b[1;34m(filepath_or_buffer, sep, delimiter, header, names, index_col, usecols, dtype, engine, converters, true_values, false_values, skipinitialspace, skiprows, skipfooter, nrows, na_values, keep_default_na, na_filter, verbose, skip_blank_lines, parse_dates, infer_datetime_format, keep_date_col, date_parser, date_format, dayfirst, cache_dates, iterator, chunksize, compression, thousands, decimal, lineterminator, quotechar, quoting, doublequote, escapechar, comment, encoding, encoding_errors, dialect, on_bad_lines, delim_whitespace, low_memory, memory_map, float_precision, storage_options, dtype_backend)\u001b[0m\n\u001b[0;32m   1013\u001b[0m kwds_defaults \u001b[38;5;241m=\u001b[39m _refine_defaults_read(\n\u001b[0;32m   1014\u001b[0m     dialect,\n\u001b[0;32m   1015\u001b[0m     delimiter,\n\u001b[1;32m   (...)\u001b[0m\n\u001b[0;32m   1022\u001b[0m     dtype_backend\u001b[38;5;241m=\u001b[39mdtype_backend,\n\u001b[0;32m   1023\u001b[0m )\n\u001b[0;32m   1024\u001b[0m kwds\u001b[38;5;241m.\u001b[39mupdate(kwds_defaults)\n\u001b[1;32m-> 1026\u001b[0m \u001b[38;5;28;01mreturn\u001b[39;00m \u001b[43m_read\u001b[49m\u001b[43m(\u001b[49m\u001b[43mfilepath_or_buffer\u001b[49m\u001b[43m,\u001b[49m\u001b[43m \u001b[49m\u001b[43mkwds\u001b[49m\u001b[43m)\u001b[49m\n",
      "File \u001b[1;32md:\\LGAimers\\Hackerton\\.venv\\Lib\\site-packages\\pandas\\io\\parsers\\readers.py:620\u001b[0m, in \u001b[0;36m_read\u001b[1;34m(filepath_or_buffer, kwds)\u001b[0m\n\u001b[0;32m    617\u001b[0m _validate_names(kwds\u001b[38;5;241m.\u001b[39mget(\u001b[38;5;124m\"\u001b[39m\u001b[38;5;124mnames\u001b[39m\u001b[38;5;124m\"\u001b[39m, \u001b[38;5;28;01mNone\u001b[39;00m))\n\u001b[0;32m    619\u001b[0m \u001b[38;5;66;03m# Create the parser.\u001b[39;00m\n\u001b[1;32m--> 620\u001b[0m parser \u001b[38;5;241m=\u001b[39m \u001b[43mTextFileReader\u001b[49m\u001b[43m(\u001b[49m\u001b[43mfilepath_or_buffer\u001b[49m\u001b[43m,\u001b[49m\u001b[43m \u001b[49m\u001b[38;5;241;43m*\u001b[39;49m\u001b[38;5;241;43m*\u001b[39;49m\u001b[43mkwds\u001b[49m\u001b[43m)\u001b[49m\n\u001b[0;32m    622\u001b[0m \u001b[38;5;28;01mif\u001b[39;00m chunksize \u001b[38;5;129;01mor\u001b[39;00m iterator:\n\u001b[0;32m    623\u001b[0m     \u001b[38;5;28;01mreturn\u001b[39;00m parser\n",
      "File \u001b[1;32md:\\LGAimers\\Hackerton\\.venv\\Lib\\site-packages\\pandas\\io\\parsers\\readers.py:1620\u001b[0m, in \u001b[0;36mTextFileReader.__init__\u001b[1;34m(self, f, engine, **kwds)\u001b[0m\n\u001b[0;32m   1617\u001b[0m     \u001b[38;5;28mself\u001b[39m\u001b[38;5;241m.\u001b[39moptions[\u001b[38;5;124m\"\u001b[39m\u001b[38;5;124mhas_index_names\u001b[39m\u001b[38;5;124m\"\u001b[39m] \u001b[38;5;241m=\u001b[39m kwds[\u001b[38;5;124m\"\u001b[39m\u001b[38;5;124mhas_index_names\u001b[39m\u001b[38;5;124m\"\u001b[39m]\n\u001b[0;32m   1619\u001b[0m \u001b[38;5;28mself\u001b[39m\u001b[38;5;241m.\u001b[39mhandles: IOHandles \u001b[38;5;241m|\u001b[39m \u001b[38;5;28;01mNone\u001b[39;00m \u001b[38;5;241m=\u001b[39m \u001b[38;5;28;01mNone\u001b[39;00m\n\u001b[1;32m-> 1620\u001b[0m \u001b[38;5;28mself\u001b[39m\u001b[38;5;241m.\u001b[39m_engine \u001b[38;5;241m=\u001b[39m \u001b[38;5;28;43mself\u001b[39;49m\u001b[38;5;241;43m.\u001b[39;49m\u001b[43m_make_engine\u001b[49m\u001b[43m(\u001b[49m\u001b[43mf\u001b[49m\u001b[43m,\u001b[49m\u001b[43m \u001b[49m\u001b[38;5;28;43mself\u001b[39;49m\u001b[38;5;241;43m.\u001b[39;49m\u001b[43mengine\u001b[49m\u001b[43m)\u001b[49m\n",
      "File \u001b[1;32md:\\LGAimers\\Hackerton\\.venv\\Lib\\site-packages\\pandas\\io\\parsers\\readers.py:1880\u001b[0m, in \u001b[0;36mTextFileReader._make_engine\u001b[1;34m(self, f, engine)\u001b[0m\n\u001b[0;32m   1878\u001b[0m     \u001b[38;5;28;01mif\u001b[39;00m \u001b[38;5;124m\"\u001b[39m\u001b[38;5;124mb\u001b[39m\u001b[38;5;124m\"\u001b[39m \u001b[38;5;129;01mnot\u001b[39;00m \u001b[38;5;129;01min\u001b[39;00m mode:\n\u001b[0;32m   1879\u001b[0m         mode \u001b[38;5;241m+\u001b[39m\u001b[38;5;241m=\u001b[39m \u001b[38;5;124m\"\u001b[39m\u001b[38;5;124mb\u001b[39m\u001b[38;5;124m\"\u001b[39m\n\u001b[1;32m-> 1880\u001b[0m \u001b[38;5;28mself\u001b[39m\u001b[38;5;241m.\u001b[39mhandles \u001b[38;5;241m=\u001b[39m \u001b[43mget_handle\u001b[49m\u001b[43m(\u001b[49m\n\u001b[0;32m   1881\u001b[0m \u001b[43m    \u001b[49m\u001b[43mf\u001b[49m\u001b[43m,\u001b[49m\n\u001b[0;32m   1882\u001b[0m \u001b[43m    \u001b[49m\u001b[43mmode\u001b[49m\u001b[43m,\u001b[49m\n\u001b[0;32m   1883\u001b[0m \u001b[43m    \u001b[49m\u001b[43mencoding\u001b[49m\u001b[38;5;241;43m=\u001b[39;49m\u001b[38;5;28;43mself\u001b[39;49m\u001b[38;5;241;43m.\u001b[39;49m\u001b[43moptions\u001b[49m\u001b[38;5;241;43m.\u001b[39;49m\u001b[43mget\u001b[49m\u001b[43m(\u001b[49m\u001b[38;5;124;43m\"\u001b[39;49m\u001b[38;5;124;43mencoding\u001b[39;49m\u001b[38;5;124;43m\"\u001b[39;49m\u001b[43m,\u001b[49m\u001b[43m \u001b[49m\u001b[38;5;28;43;01mNone\u001b[39;49;00m\u001b[43m)\u001b[49m\u001b[43m,\u001b[49m\n\u001b[0;32m   1884\u001b[0m \u001b[43m    \u001b[49m\u001b[43mcompression\u001b[49m\u001b[38;5;241;43m=\u001b[39;49m\u001b[38;5;28;43mself\u001b[39;49m\u001b[38;5;241;43m.\u001b[39;49m\u001b[43moptions\u001b[49m\u001b[38;5;241;43m.\u001b[39;49m\u001b[43mget\u001b[49m\u001b[43m(\u001b[49m\u001b[38;5;124;43m\"\u001b[39;49m\u001b[38;5;124;43mcompression\u001b[39;49m\u001b[38;5;124;43m\"\u001b[39;49m\u001b[43m,\u001b[49m\u001b[43m \u001b[49m\u001b[38;5;28;43;01mNone\u001b[39;49;00m\u001b[43m)\u001b[49m\u001b[43m,\u001b[49m\n\u001b[0;32m   1885\u001b[0m \u001b[43m    \u001b[49m\u001b[43mmemory_map\u001b[49m\u001b[38;5;241;43m=\u001b[39;49m\u001b[38;5;28;43mself\u001b[39;49m\u001b[38;5;241;43m.\u001b[39;49m\u001b[43moptions\u001b[49m\u001b[38;5;241;43m.\u001b[39;49m\u001b[43mget\u001b[49m\u001b[43m(\u001b[49m\u001b[38;5;124;43m\"\u001b[39;49m\u001b[38;5;124;43mmemory_map\u001b[39;49m\u001b[38;5;124;43m\"\u001b[39;49m\u001b[43m,\u001b[49m\u001b[43m \u001b[49m\u001b[38;5;28;43;01mFalse\u001b[39;49;00m\u001b[43m)\u001b[49m\u001b[43m,\u001b[49m\n\u001b[0;32m   1886\u001b[0m \u001b[43m    \u001b[49m\u001b[43mis_text\u001b[49m\u001b[38;5;241;43m=\u001b[39;49m\u001b[43mis_text\u001b[49m\u001b[43m,\u001b[49m\n\u001b[0;32m   1887\u001b[0m \u001b[43m    \u001b[49m\u001b[43merrors\u001b[49m\u001b[38;5;241;43m=\u001b[39;49m\u001b[38;5;28;43mself\u001b[39;49m\u001b[38;5;241;43m.\u001b[39;49m\u001b[43moptions\u001b[49m\u001b[38;5;241;43m.\u001b[39;49m\u001b[43mget\u001b[49m\u001b[43m(\u001b[49m\u001b[38;5;124;43m\"\u001b[39;49m\u001b[38;5;124;43mencoding_errors\u001b[39;49m\u001b[38;5;124;43m\"\u001b[39;49m\u001b[43m,\u001b[49m\u001b[43m \u001b[49m\u001b[38;5;124;43m\"\u001b[39;49m\u001b[38;5;124;43mstrict\u001b[39;49m\u001b[38;5;124;43m\"\u001b[39;49m\u001b[43m)\u001b[49m\u001b[43m,\u001b[49m\n\u001b[0;32m   1888\u001b[0m \u001b[43m    \u001b[49m\u001b[43mstorage_options\u001b[49m\u001b[38;5;241;43m=\u001b[39;49m\u001b[38;5;28;43mself\u001b[39;49m\u001b[38;5;241;43m.\u001b[39;49m\u001b[43moptions\u001b[49m\u001b[38;5;241;43m.\u001b[39;49m\u001b[43mget\u001b[49m\u001b[43m(\u001b[49m\u001b[38;5;124;43m\"\u001b[39;49m\u001b[38;5;124;43mstorage_options\u001b[39;49m\u001b[38;5;124;43m\"\u001b[39;49m\u001b[43m,\u001b[49m\u001b[43m \u001b[49m\u001b[38;5;28;43;01mNone\u001b[39;49;00m\u001b[43m)\u001b[49m\u001b[43m,\u001b[49m\n\u001b[0;32m   1889\u001b[0m \u001b[43m\u001b[49m\u001b[43m)\u001b[49m\n\u001b[0;32m   1890\u001b[0m \u001b[38;5;28;01massert\u001b[39;00m \u001b[38;5;28mself\u001b[39m\u001b[38;5;241m.\u001b[39mhandles \u001b[38;5;129;01mis\u001b[39;00m \u001b[38;5;129;01mnot\u001b[39;00m \u001b[38;5;28;01mNone\u001b[39;00m\n\u001b[0;32m   1891\u001b[0m f \u001b[38;5;241m=\u001b[39m \u001b[38;5;28mself\u001b[39m\u001b[38;5;241m.\u001b[39mhandles\u001b[38;5;241m.\u001b[39mhandle\n",
      "File \u001b[1;32md:\\LGAimers\\Hackerton\\.venv\\Lib\\site-packages\\pandas\\io\\common.py:873\u001b[0m, in \u001b[0;36mget_handle\u001b[1;34m(path_or_buf, mode, encoding, compression, memory_map, is_text, errors, storage_options)\u001b[0m\n\u001b[0;32m    868\u001b[0m \u001b[38;5;28;01melif\u001b[39;00m \u001b[38;5;28misinstance\u001b[39m(handle, \u001b[38;5;28mstr\u001b[39m):\n\u001b[0;32m    869\u001b[0m     \u001b[38;5;66;03m# Check whether the filename is to be opened in binary mode.\u001b[39;00m\n\u001b[0;32m    870\u001b[0m     \u001b[38;5;66;03m# Binary mode does not support 'encoding' and 'newline'.\u001b[39;00m\n\u001b[0;32m    871\u001b[0m     \u001b[38;5;28;01mif\u001b[39;00m ioargs\u001b[38;5;241m.\u001b[39mencoding \u001b[38;5;129;01mand\u001b[39;00m \u001b[38;5;124m\"\u001b[39m\u001b[38;5;124mb\u001b[39m\u001b[38;5;124m\"\u001b[39m \u001b[38;5;129;01mnot\u001b[39;00m \u001b[38;5;129;01min\u001b[39;00m ioargs\u001b[38;5;241m.\u001b[39mmode:\n\u001b[0;32m    872\u001b[0m         \u001b[38;5;66;03m# Encoding\u001b[39;00m\n\u001b[1;32m--> 873\u001b[0m         handle \u001b[38;5;241m=\u001b[39m \u001b[38;5;28;43mopen\u001b[39;49m\u001b[43m(\u001b[49m\n\u001b[0;32m    874\u001b[0m \u001b[43m            \u001b[49m\u001b[43mhandle\u001b[49m\u001b[43m,\u001b[49m\n\u001b[0;32m    875\u001b[0m \u001b[43m            \u001b[49m\u001b[43mioargs\u001b[49m\u001b[38;5;241;43m.\u001b[39;49m\u001b[43mmode\u001b[49m\u001b[43m,\u001b[49m\n\u001b[0;32m    876\u001b[0m \u001b[43m            \u001b[49m\u001b[43mencoding\u001b[49m\u001b[38;5;241;43m=\u001b[39;49m\u001b[43mioargs\u001b[49m\u001b[38;5;241;43m.\u001b[39;49m\u001b[43mencoding\u001b[49m\u001b[43m,\u001b[49m\n\u001b[0;32m    877\u001b[0m \u001b[43m            \u001b[49m\u001b[43merrors\u001b[49m\u001b[38;5;241;43m=\u001b[39;49m\u001b[43merrors\u001b[49m\u001b[43m,\u001b[49m\n\u001b[0;32m    878\u001b[0m \u001b[43m            \u001b[49m\u001b[43mnewline\u001b[49m\u001b[38;5;241;43m=\u001b[39;49m\u001b[38;5;124;43m\"\u001b[39;49m\u001b[38;5;124;43m\"\u001b[39;49m\u001b[43m,\u001b[49m\n\u001b[0;32m    879\u001b[0m \u001b[43m        \u001b[49m\u001b[43m)\u001b[49m\n\u001b[0;32m    880\u001b[0m     \u001b[38;5;28;01melse\u001b[39;00m:\n\u001b[0;32m    881\u001b[0m         \u001b[38;5;66;03m# Binary mode\u001b[39;00m\n\u001b[0;32m    882\u001b[0m         handle \u001b[38;5;241m=\u001b[39m \u001b[38;5;28mopen\u001b[39m(handle, ioargs\u001b[38;5;241m.\u001b[39mmode)\n",
      "\u001b[1;31mFileNotFoundError\u001b[0m: [Errno 2] No such file or directory: './scaled_data.csv'"
     ]
    }
   ],
   "source": [
    "X_train, X_test, y_train, y_test = data_split(pd.read_csv('./scaled_data.csv'), test_size=0.3)"
   ]
  },
  {
   "cell_type": "code",
   "execution_count": null,
   "metadata": {},
   "outputs": [],
   "source": [
    "X_train_selected, X_test_selected = best_features(X_train = X_train, X_test = X_test, y_train=y_train)"
   ]
  },
  {
   "cell_type": "code",
   "execution_count": null,
   "metadata": {},
   "outputs": [],
   "source": [
    "X_train_selected.shape"
   ]
  },
  {
   "cell_type": "code",
   "execution_count": null,
   "metadata": {},
   "outputs": [],
   "source": [
    "oversampled_train_df = data_augmentation(X_train_selected, y_train)"
   ]
  },
  {
   "cell_type": "code",
   "execution_count": null,
   "metadata": {},
   "outputs": [],
   "source": [
    "oversampled_train_df.head()"
   ]
  },
  {
   "cell_type": "code",
   "execution_count": null,
   "metadata": {},
   "outputs": [],
   "source": [
    "X_train_oversampled = oversampled_train_df.drop('target', axis = 1)\n",
    "y_train_oversampled = oversampled_train_df['target']"
   ]
  },
  {
   "cell_type": "code",
   "execution_count": null,
   "metadata": {},
   "outputs": [],
   "source": [
    "rf = RandomForestClassifier(n_estimators=100, random_state=42)\n",
    "xgboost = XGBClassifier(use_label_encoder=False, eval_metric='logloss', random_state=42)\n",
    "lgbm = LGBMClassifier(random_state=42)\n",
    "adaboost = AdaBoostClassifier(n_estimators=50, random_state=42)\n",
    "\n",
    "rf_model = k_fold_cross_validation(k = 5, X = X_train_oversampled, y = y_train_oversampled, model = rf)\n",
    "save_model(model=rf_model, model_name='randomForest')\n",
    "\n",
    "xgboost_model = k_fold_cross_validation(k = 5, X = X_train_oversampled, y = y_train_oversampled, model = xgboost)\n",
    "save_model(model=xgboost_model, model_name='XGBoost')\n",
    "\n",
    "lgbm_model = k_fold_cross_validation(k = 5, X = X_train_oversampled, y = y_train_oversampled, model = lgbm)\n",
    "save_model(model=lgbm_model, model_name='LGBM')\n",
    "\n",
    "adaboost_model = k_fold_cross_validation(k = 5, X = X_train_oversampled, y = y_train_oversampled, model = adaboost)\n",
    "save_model(model=adaboost_model, model_name='AdaBoost')"
   ]
  },
  {
   "cell_type": "code",
   "execution_count": null,
   "metadata": {},
   "outputs": [],
   "source": []
  }
 ],
 "metadata": {
  "kernelspec": {
   "display_name": ".venv",
   "language": "python",
   "name": "python3"
  },
  "language_info": {
   "codemirror_mode": {
    "name": "ipython",
    "version": 3
   },
   "file_extension": ".py",
   "mimetype": "text/x-python",
   "name": "python",
   "nbconvert_exporter": "python",
   "pygments_lexer": "ipython3",
   "version": "3.12.4"
  }
 },
 "nbformat": 4,
 "nbformat_minor": 2
}
